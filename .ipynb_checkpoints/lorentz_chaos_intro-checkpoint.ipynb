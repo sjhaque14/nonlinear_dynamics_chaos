{
 "cells": [
  {
   "cell_type": "code",
   "execution_count": 1,
   "id": "71066df3-514e-4e82-880a-0684c5a231fb",
   "metadata": {},
   "outputs": [],
   "source": [
    "import numpy as np\n",
    "import matplotlib.pyplot as plt\n",
    "from scipy.integrate import solve_ivp"
   ]
  },
  {
   "cell_type": "code",
   "execution_count": null,
   "id": "5e6bd30d-501d-4da9-8782-49763fa2db0d",
   "metadata": {},
   "outputs": [],
   "source": []
  },
  {
   "cell_type": "code",
   "execution_count": null,
   "id": "50966b2c-b4c5-482c-9138-0161390b0632",
   "metadata": {},
   "outputs": [],
   "source": [
    "def lorenz(t, r, rho, sigma, beta):\n",
    "    x,y,z = r\n",
    "    dxdt = sigma*(y-x)\n",
    "    dydt = x*(rho-z) - y\n",
    "    dzdt = x*y-beta*z\n",
    "    return np.array([dxdt, dydt, dzdt])\n",
    "\n",
    "lorenz_init = np.array([1,1,1])"
   ]
  }
 ],
 "metadata": {
  "kernelspec": {
   "display_name": "Python 3 (ipykernel)",
   "language": "python",
   "name": "python3"
  },
  "language_info": {
   "codemirror_mode": {
    "name": "ipython",
    "version": 3
   },
   "file_extension": ".py",
   "mimetype": "text/x-python",
   "name": "python",
   "nbconvert_exporter": "python",
   "pygments_lexer": "ipython3",
   "version": "3.9.19"
  }
 },
 "nbformat": 4,
 "nbformat_minor": 5
}
